{
 "cells": [
  {
   "cell_type": "code",
   "execution_count": null,
   "metadata": {},
   "outputs": [],
   "source": [
    "%env\n",
    "SCHEMA=https://\n",
    "OUTPUT=s3://\n",
    "ETL_CONF_ENV=production"
   ]
  },
  {
   "cell_type": "code",
   "execution_count": null,
   "metadata": {},
   "outputs": [],
   "source": [
    "{\n",
    "  \"type\": \"DelimitedExtract\",\n",
    "  \"name\": \"extract data from green_tripdata schema 0\",\n",
    "  \"environments\": [\"production\", \"test\"],\n",
    "  \"inputURI\": \"s3://nyc-tlc/trip data/green_tripdata_2013-08.csv\",\n",
    "  \"outputView\": \"green_tripdata0_raw\",            \n",
    "  \"delimiter\": \"Comma\",\n",
    "  \"quote\" : \"DoubleQuote\",\n",
    "  \"header\": true,\n",
    "  \"persist\": true\n",
    "}"
   ]
  },
  {
   "cell_type": "code",
   "execution_count": null,
   "metadata": {},
   "outputs": [],
   "source": [
    "{\n",
    "  \"type\": \"TypingTransform\",\n",
    "  \"name\": \"apply green_tripdata schema 0 data types\",\n",
    "  \"environments\": [\"production\", \"test\"],\n",
    "  \"schemaURI\": ${SCHEMA},\n",
    "  \"inputView\": \"green_tripdata0_raw\",            \n",
    "  \"outputView\": \"green_tripdata0\"\n",
    "}"
   ]
  },
  {
   "cell_type": "code",
   "execution_count": null,
   "metadata": {},
   "outputs": [],
   "source": [
    "{\n",
    "  \"type\": \"ParquetLoad\",\n",
    "  \"name\": \"write out green_tripdata0 dataset\",\n",
    "  \"environments\": [\"production\", \"test\"],\n",
    "  \"inputView\": \"green_tripdata0\",\n",
    "  \"outputURI\": ${OUTPUT},\n",
    "  \"saveMode\": \"Overwrite\"\n",
    "}"
   ]
  },
  {
   "cell_type": "code",
   "execution_count": null,
   "metadata": {},
   "outputs": [],
   "source": []
  }
 ],
 "metadata": {
  "kernelspec": {
   "display_name": "Arc",
   "language": "javascript",
   "name": "arc"
  },
  "language_info": {
   "codemirror_mode": "javascript",
   "file_extension": ".json",
   "mimetype": "javascript",
   "name": "arc",
   "nbconvert_exporter": "arcexport",
   "version": "3.11.0"
  }
 },
 "nbformat": 4,
 "nbformat_minor": 4
}